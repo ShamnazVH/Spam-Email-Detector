{
  "nbformat": 4,
  "nbformat_minor": 0,
  "metadata": {
    "colab": {
      "provenance": [],
      "authorship_tag": "ABX9TyNAGzg7vpRkJVftjtfK7hgF",
      "include_colab_link": true
    },
    "kernelspec": {
      "name": "python3",
      "display_name": "Python 3"
    },
    "language_info": {
      "name": "python"
    }
  },
  "cells": [
    {
      "cell_type": "markdown",
      "metadata": {
        "id": "view-in-github",
        "colab_type": "text"
      },
      "source": [
        "<a href=\"https://colab.research.google.com/github/ShamnazVH/Spam-Email-Detector/blob/main/Spam_Email_Detection.ipynb\" target=\"_parent\"><img src=\"https://colab.research.google.com/assets/colab-badge.svg\" alt=\"Open In Colab\"/></a>"
      ]
    },
    {
      "cell_type": "markdown",
      "source": [
        "# **Spam Detector: Machine Learning Model for Email Classification**"
      ],
      "metadata": {
        "id": "_9m0CTyNfzC_"
      }
    },
    {
      "cell_type": "markdown",
      "source": [
        "This project is a complete end-to-end machine learning pipeline built to detect spam vs. ham (legitimate) emails with high accuracy. Using a dataset of email messages, the model applies advanced text preprocessing, feature engineering, and TF–IDF vectorization, combined with traditional ML algorithms such as Naive Bayes, Logistic Regression, SVM, and Random Forest. After evaluating multiple models, the best-performing one is selected, tuned, and deployed.\n",
        "\n",
        "The notebook trains the model in Google Colab, saves it using pickle, and provides the necessary files (spam_model.pkl, vectorizer.pkl, model_info.pkl) for easy deployment through Flask or Streamlit on local machines.\n",
        "\n",
        "Key steps include:\n",
        "\n",
        "*   Data cleaning & preprocessing with NLTK\n",
        "\n",
        "*   Feature engineering (length, special characters, URLs, etc.)\n",
        "\n",
        "*   Model training, evaluation & hyperparameter tuning\n",
        "\n",
        "*   TF–IDF text vectorization\n",
        "\n",
        "*   Confusion matrix visualization\n",
        "\n",
        "*   Model export and sample predictions\n",
        "\n",
        "✅ Outcome: A ready-to-deploy, lightweight spam detection system capable of real-time classification of incoming messages with high accuracy."
      ],
      "metadata": {
        "id": "-cHEQw0vJ9wV"
      }
    },
    {
      "cell_type": "code",
      "source": [
        "# ============================================================================\n",
        "#  SPAM DETECTOR - TRAIN IN GOOGLE COLAB\n",
        "# ============================================================================\n",
        "\n",
        "# Install required libraries (Colab already has most)\n",
        "!pip install -q scikit-learn pandas numpy matplotlib seaborn nltk"
      ],
      "metadata": {
        "id": "dZYVheSta3fg"
      },
      "execution_count": null,
      "outputs": []
    },
    {
      "cell_type": "code",
      "execution_count": null,
      "metadata": {
        "id": "LVmUXx_1e_hJ",
        "colab": {
          "base_uri": "https://localhost:8080/"
        },
        "outputId": "4422ea7d-0042-47c5-dae4-378524239dfc"
      },
      "outputs": [
        {
          "output_type": "stream",
          "name": "stdout",
          "text": [
            "======================================================================\n",
            "  TRAINING SPAM DETECTOR IN GOOGLE COLAB\n",
            "======================================================================\n"
          ]
        }
      ],
      "source": [
        "# Import libraries\n",
        "import numpy as np\n",
        "import pandas as pd\n",
        "import re\n",
        "import pickle\n",
        "from sklearn.model_selection import train_test_split\n",
        "from sklearn.feature_extraction.text import TfidfVectorizer\n",
        "from sklearn.metrics import classification_report, accuracy_score, confusion_matrix\n",
        "from sklearn.naive_bayes import MultinomialNB\n",
        "from sklearn.linear_model import LogisticRegression\n",
        "from sklearn.svm import SVC\n",
        "import matplotlib.pyplot as plt\n",
        "import seaborn as sns\n",
        "import nltk\n",
        "from nltk.corpus import stopwords\n",
        "from nltk.stem import PorterStemmer\n",
        "from scipy.sparse import hstack\n",
        "\n",
        "print(\"=\"*70)\n",
        "print(\"  TRAINING SPAM DETECTOR IN GOOGLE COLAB\")\n",
        "print(\"=\"*70)\n"
      ]
    },
    {
      "cell_type": "code",
      "source": [
        "\n",
        "# Download NLTK data\n",
        "print(\"\\n[1/12] Downloading NLTK data...\")\n",
        "nltk.download('stopwords', quiet=True)\n",
        "print(\"✓ Complete!\")"
      ],
      "metadata": {
        "colab": {
          "base_uri": "https://localhost:8080/"
        },
        "id": "EZMKuh7ZMNAC",
        "outputId": "e8ba1d17-8263-4c93-b198-6e0d20874ec8"
      },
      "execution_count": null,
      "outputs": [
        {
          "output_type": "stream",
          "name": "stdout",
          "text": [
            "\n",
            "[1/12] Downloading NLTK data...\n",
            "✓ Complete!\n"
          ]
        }
      ]
    },
    {
      "cell_type": "code",
      "source": [
        "# ================================\n",
        "# 1. LOAD AND EXPLORE DATA\n",
        "# ================================\n",
        "df = pd.read_csv('spam.csv', encoding='latin-1')\n",
        "print(\"Dataset Shape:\", df.shape)\n",
        "print(\"\\nFirst few rows:\")\n",
        "print(df.head())"
      ],
      "metadata": {
        "colab": {
          "base_uri": "https://localhost:8080/"
        },
        "id": "dt0X_4gngZIC",
        "outputId": "ffed812a-2e94-4983-a161-109a33475785"
      },
      "execution_count": null,
      "outputs": [
        {
          "output_type": "stream",
          "name": "stdout",
          "text": [
            "Dataset Shape: (5572, 2)\n",
            "\n",
            "First few rows:\n",
            "  Category                                            Message\n",
            "0      ham  Go until jurong point, crazy.. Available only ...\n",
            "1      ham                      Ok lar... Joking wif u oni...\n",
            "2     spam  Free entry in 2 a wkly comp to win FA Cup fina...\n",
            "3      ham  U dun say so early hor... U c already then say...\n",
            "4      ham  Nah I don't think he goes to usf, he lives aro...\n"
          ]
        }
      ]
    },
    {
      "cell_type": "code",
      "source": [
        "# Keep only relevant columns (assuming first two columns are Category and Message)\n",
        "df = df.iloc[:, :2]\n",
        "df.columns = ['Category', 'Message']\n",
        "\n",
        "print(\"\\n\" + \"=\"*60)\n",
        "print(\"DATA OVERVIEW\")\n",
        "print(\"=\"*60)\n",
        "print(f\"\\nTotal emails: {len(df)}\")\n",
        "print(f\"\\nClass distribution:\\n{df['Category'].value_counts()}\")\n",
        "print(f\"\\nMissing values:\\n{df.isnull().sum()}\")\n"
      ],
      "metadata": {
        "colab": {
          "base_uri": "https://localhost:8080/"
        },
        "id": "i-FeVk4LMuLi",
        "outputId": "20da2cae-d88f-44d4-a20b-213ee799ca48"
      },
      "execution_count": null,
      "outputs": [
        {
          "output_type": "stream",
          "name": "stdout",
          "text": [
            "\n",
            "============================================================\n",
            "DATA OVERVIEW\n",
            "============================================================\n",
            "\n",
            "Total emails: 5572\n",
            "\n",
            "Class distribution:\n",
            "Category\n",
            "ham     4825\n",
            "spam     747\n",
            "Name: count, dtype: int64\n",
            "\n",
            "Missing values:\n",
            "Category    0\n",
            "Message     0\n",
            "dtype: int64\n"
          ]
        }
      ]
    },
    {
      "cell_type": "code",
      "source": [
        "\n",
        "# ================================\n",
        "# 2. ADVANCED TEXT PREPROCESSING\n",
        "# ================================\n",
        "def preprocess_text(text):\n",
        "    \"\"\"Advanced text preprocessing\"\"\"\n",
        "    # Convert to lowercase\n",
        "    text = text.lower()\n",
        "\n",
        "    # Remove URLs\n",
        "    text = re.sub(r'http\\S+|www\\S+|https\\S+', '', text, flags=re.MULTILINE)\n",
        "\n",
        "    # Remove email addresses\n",
        "    text = re.sub(r'\\S+@\\S+', '', text)\n",
        "\n",
        "    # Remove phone numbers\n",
        "    text = re.sub(r'\\b\\d{10}\\b|\\b\\d{3}[-.\\s]?\\d{3}[-.\\s]?\\d{4}\\b', '', text)\n",
        "\n",
        "    # Remove special characters and digits\n",
        "    text = re.sub(r'[^a-zA-Z\\s]', '', text)\n",
        "\n",
        "    # Remove extra whitespace\n",
        "    text = ' '.join(text.split())\n",
        "\n",
        "    # Remove stopwords and apply stemming\n",
        "    stop_words = set(stopwords.words('english'))\n",
        "    stemmer = PorterStemmer()\n",
        "    words = text.split()\n",
        "    words = [stemmer.stem(word) for word in words if word not in stop_words]\n",
        "\n",
        "    return ' '.join(words)\n",
        "\n",
        "# Apply preprocessing\n",
        "print(\"\\n\" + \"=\"*60)\n",
        "print(\"PREPROCESSING TEXT\")\n",
        "print(\"=\"*60)\n",
        "df['Processed_Message'] = df['Message'].apply(preprocess_text)\n",
        "print(\"Preprocessing complete!\")"
      ],
      "metadata": {
        "colab": {
          "base_uri": "https://localhost:8080/"
        },
        "id": "4W9lKHu_M-jf",
        "outputId": "3bbaf8b7-4768-45b9-9320-f760ded9cf02"
      },
      "execution_count": null,
      "outputs": [
        {
          "output_type": "stream",
          "name": "stdout",
          "text": [
            "\n",
            "============================================================\n",
            "PREPROCESSING TEXT\n",
            "============================================================\n",
            "Preprocessing complete!\n"
          ]
        }
      ]
    },
    {
      "cell_type": "code",
      "source": [
        "\n",
        "# ================================\n",
        "# 3. FEATURE ENGINEERING\n",
        "# ================================\n",
        "print(\"\\n\" + \"=\"*60)\n",
        "print(\"FEATURE ENGINEERING\")\n",
        "print(\"=\"*60)\n",
        "\n",
        "# Create additional features\n",
        "df['Length'] = df['Message'].apply(len)\n",
        "df['Word_Count'] = df['Message'].apply(lambda x: len(x.split()))\n",
        "df['Capital_Ratio'] = df['Message'].apply(lambda x: sum(1 for c in x if c.isupper()) / (len(x) + 1))\n",
        "df['Special_Char_Count'] = df['Message'].apply(lambda x: sum(1 for c in x if not c.isalnum() and not c.isspace()))\n",
        "df['Has_URL'] = df['Message'].apply(lambda x: 1 if re.search(r'http\\S+|www\\S+', x) else 0)\n",
        "df['Has_Email'] = df['Message'].apply(lambda x: 1 if re.search(r'\\S+@\\S+', x) else 0)\n",
        "df['Has_Phone'] = df['Message'].apply(lambda x: 1 if re.search(r'\\d{10}|\\d{3}[-.\\s]?\\d{3}[-.\\s]?\\d{4}', x) else 0)\n",
        "\n",
        "# Create binary target\n",
        "df['Spam'] = df['Category'].apply(lambda x: 1 if x == 'spam' else 0)\n",
        "\n",
        "print(\"Features created:\")\n",
        "print(df[['Length', 'Word_Count', 'Capital_Ratio', 'Special_Char_Count']].describe())\n"
      ],
      "metadata": {
        "colab": {
          "base_uri": "https://localhost:8080/"
        },
        "id": "c1v6A_DRNGD3",
        "outputId": "d1151580-e7a6-4cf1-efdb-40d761cbfae8"
      },
      "execution_count": null,
      "outputs": [
        {
          "output_type": "stream",
          "name": "stdout",
          "text": [
            "\n",
            "============================================================\n",
            "FEATURE ENGINEERING\n",
            "============================================================\n",
            "Features created:\n",
            "            Length   Word_Count  Capital_Ratio  Special_Char_Count\n",
            "count  5572.000000  5572.000000    5572.000000         5572.000000\n",
            "mean     80.494616    15.584171       0.065047            4.278177\n",
            "std      59.998745    11.406598       0.107139            4.665375\n",
            "min       2.000000     1.000000       0.000000            0.000000\n",
            "25%      36.000000     7.000000       0.025447            2.000000\n",
            "50%      61.000000    12.000000       0.037037            3.000000\n",
            "75%     122.000000    23.000000       0.060606            6.000000\n",
            "max     910.000000   171.000000       0.878049          133.000000\n"
          ]
        }
      ]
    },
    {
      "cell_type": "code",
      "source": [
        "# ================================\n",
        "# 4. PREPARE DATA FOR MODELING\n",
        "# ================================\n",
        "# Split data\n",
        "X_text = df['Processed_Message']\n",
        "X_features = df[['Length', 'Word_Count', 'Capital_Ratio', 'Special_Char_Count',\n",
        "                  'Has_URL', 'Has_Email', 'Has_Phone']]\n",
        "y = df['Spam']\n",
        "\n",
        "X_train_text, X_test_text, X_train_feat, X_test_feat, y_train, y_test = train_test_split(\n",
        "    X_text, X_features, y, test_size=0.2, random_state=42, stratify=y\n",
        ")\n",
        "\n",
        "print(\"\\n\" + \"=\"*60)\n",
        "print(\"TRAIN-TEST SPLIT\")\n",
        "print(\"=\"*60)\n",
        "print(f\"Training set size: {len(X_train_text)}\")\n",
        "print(f\"Test set size: {len(X_test_text)}\")\n"
      ],
      "metadata": {
        "colab": {
          "base_uri": "https://localhost:8080/"
        },
        "id": "ugsdUbbPNKtX",
        "outputId": "3625392c-17a9-421d-d1a0-0ccabd4e4ce8"
      },
      "execution_count": null,
      "outputs": [
        {
          "output_type": "stream",
          "name": "stdout",
          "text": [
            "\n",
            "============================================================\n",
            "TRAIN-TEST SPLIT\n",
            "============================================================\n",
            "Training set size: 4457\n",
            "Test set size: 1115\n"
          ]
        }
      ]
    },
    {
      "cell_type": "code",
      "source": [
        "# ================================\n",
        "# 5. VECTORIZATION WITH TF-IDF\n",
        "# ================================\n",
        "print(\"\\n\" + \"=\"*60)\n",
        "print(\"TEXT VECTORIZATION\")\n",
        "print(\"=\"*60)\n",
        "\n",
        "# Use TF-IDF with n-grams\n",
        "vectorizer = TfidfVectorizer(max_features=3000, ngram_range=(1, 2), min_df=2)\n",
        "X_train_vec = vectorizer.fit_transform(X_train_text)\n",
        "X_test_vec = vectorizer.transform(X_test_text)\n",
        "\n",
        "print(f\"Vocabulary size: {len(vectorizer.vocabulary_)}\")\n",
        "print(f\"Train matrix shape: {X_train_vec.shape}\")\n",
        "\n",
        "# Combine text features with additional features\n",
        "from scipy.sparse import hstack\n",
        "X_train_combined = hstack([X_train_vec, X_train_feat.values])\n",
        "X_test_combined = hstack([X_test_vec, X_test_feat.values])"
      ],
      "metadata": {
        "colab": {
          "base_uri": "https://localhost:8080/"
        },
        "id": "rQc23I52NTPx",
        "outputId": "5785d4a6-85a8-4be9-d8a5-16f33d688b1e"
      },
      "execution_count": null,
      "outputs": [
        {
          "output_type": "stream",
          "name": "stdout",
          "text": [
            "\n",
            "============================================================\n",
            "TEXT VECTORIZATION\n",
            "============================================================\n",
            "Vocabulary size: 3000\n",
            "Train matrix shape: (4457, 3000)\n"
          ]
        }
      ]
    },
    {
      "cell_type": "code",
      "source": [
        "\n",
        "# ================================\n",
        "# 6. MODEL TRAINING & COMPARISON\n",
        "# ================================\n",
        "print(\"\\n\" + \"=\"*60)\n",
        "print(\"MODEL TRAINING & COMPARISON\")\n",
        "print(\"=\"*60)\n",
        "\n",
        "models = {\n",
        "    'Naive Bayes': MultinomialNB(),\n",
        "    'Logistic Regression': LogisticRegression(max_iter=1000, random_state=42),\n",
        "    'SVM': SVC(kernel='linear', random_state=42),\n",
        "    'Random Forest': RandomForestClassifier(n_estimators=100, random_state=42)\n",
        "}\n",
        "\n",
        "results = {}\n",
        "\n",
        "for name, model in models.items():\n",
        "    print(f\"\\nTraining {name}...\")\n",
        "\n",
        "    # Train model\n",
        "    model.fit(X_train_combined, y_train)\n",
        "\n",
        "    # Predict\n",
        "    y_pred = model.predict(X_test_combined)\n",
        "\n",
        "    # Evaluate\n",
        "    accuracy = accuracy_score(y_test, y_pred)\n",
        "    cv_scores = cross_val_score(model, X_train_combined, y_train, cv=5)\n",
        "\n",
        "    results[name] = {\n",
        "        'model': model,\n",
        "        'accuracy': accuracy,\n",
        "        'cv_mean': cv_scores.mean(),\n",
        "        'cv_std': cv_scores.std(),\n",
        "        'predictions': y_pred\n",
        "    }\n",
        "\n",
        "    print(f\"{name} - Accuracy: {accuracy:.4f}\")\n",
        "    print(f\"{name} - CV Score: {cv_scores.mean():.4f} (+/- {cv_scores.std():.4f})\")\n",
        "    print(f\"\\nClassification Report for {name}:\")\n",
        "    print(classification_report(y_test, y_pred, target_names=['Ham', 'Spam']))\n"
      ],
      "metadata": {
        "colab": {
          "base_uri": "https://localhost:8080/"
        },
        "id": "adm1CyICNY1a",
        "outputId": "f18bc2bf-04c1-4d81-c931-2f180b453edc"
      },
      "execution_count": null,
      "outputs": [
        {
          "output_type": "stream",
          "name": "stdout",
          "text": [
            "\n",
            "============================================================\n",
            "MODEL TRAINING & COMPARISON\n",
            "============================================================\n",
            "\n",
            "Training Naive Bayes...\n",
            "Naive Bayes - Accuracy: 0.9731\n",
            "Naive Bayes - CV Score: 0.9661 (+/- 0.0037)\n",
            "\n",
            "Classification Report for Naive Bayes:\n",
            "              precision    recall  f1-score   support\n",
            "\n",
            "         Ham       0.97      1.00      0.98       966\n",
            "        Spam       0.99      0.81      0.89       149\n",
            "\n",
            "    accuracy                           0.97      1115\n",
            "   macro avg       0.98      0.90      0.94      1115\n",
            "weighted avg       0.97      0.97      0.97      1115\n",
            "\n",
            "\n",
            "Training Logistic Regression...\n",
            "Logistic Regression - Accuracy: 0.9722\n",
            "Logistic Regression - CV Score: 0.9666 (+/- 0.0026)\n",
            "\n",
            "Classification Report for Logistic Regression:\n",
            "              precision    recall  f1-score   support\n",
            "\n",
            "         Ham       0.97      1.00      0.98       966\n",
            "        Spam       0.98      0.81      0.89       149\n",
            "\n",
            "    accuracy                           0.97      1115\n",
            "   macro avg       0.97      0.90      0.94      1115\n",
            "weighted avg       0.97      0.97      0.97      1115\n",
            "\n",
            "\n",
            "Training SVM...\n",
            "SVM - Accuracy: 0.9892\n",
            "SVM - CV Score: 0.9832 (+/- 0.0026)\n",
            "\n",
            "Classification Report for SVM:\n",
            "              precision    recall  f1-score   support\n",
            "\n",
            "         Ham       0.99      1.00      0.99       966\n",
            "        Spam       0.99      0.93      0.96       149\n",
            "\n",
            "    accuracy                           0.99      1115\n",
            "   macro avg       0.99      0.96      0.98      1115\n",
            "weighted avg       0.99      0.99      0.99      1115\n",
            "\n",
            "\n",
            "Training Random Forest...\n",
            "Random Forest - Accuracy: 0.9839\n",
            "Random Forest - CV Score: 0.9832 (+/- 0.0033)\n",
            "\n",
            "Classification Report for Random Forest:\n",
            "              precision    recall  f1-score   support\n",
            "\n",
            "         Ham       0.98      1.00      0.99       966\n",
            "        Spam       1.00      0.88      0.94       149\n",
            "\n",
            "    accuracy                           0.98      1115\n",
            "   macro avg       0.99      0.94      0.96      1115\n",
            "weighted avg       0.98      0.98      0.98      1115\n",
            "\n"
          ]
        }
      ]
    },
    {
      "cell_type": "code",
      "source": [
        "\n",
        "# ================================\n",
        "# 7. SELECT BEST MODEL\n",
        "# ================================\n",
        "best_model_name = max(results, key=lambda x: results[x]['accuracy'])\n",
        "best_model = results[best_model_name]['model']\n",
        "\n",
        "print(\"\\n\" + \"=\"*60)\n",
        "print(f\"BEST MODEL: {best_model_name}\")\n",
        "print(f\"Accuracy: {results[best_model_name]['accuracy']:.4f}\")\n",
        "print(\"=\"*60)"
      ],
      "metadata": {
        "id": "zpkpm8B4H-Xz",
        "colab": {
          "base_uri": "https://localhost:8080/"
        },
        "outputId": "28e04911-e9ed-405b-fd89-0855f7405732"
      },
      "execution_count": null,
      "outputs": [
        {
          "output_type": "stream",
          "name": "stdout",
          "text": [
            "\n",
            "============================================================\n",
            "BEST MODEL: SVM\n",
            "Accuracy: 0.9892\n",
            "============================================================\n"
          ]
        }
      ]
    },
    {
      "cell_type": "code",
      "source": [
        "#===============================\n",
        "# 8. HYPERPARAMETER TUNING (Optional - for best model)\n",
        "# ================================\n",
        "if best_model_name == 'Logistic Regression':\n",
        "    print(\"\\nPerforming hyperparameter tuning...\")\n",
        "    param_grid = {\n",
        "        'C': [0.1, 1, 10],\n",
        "        'penalty': ['l2'],\n",
        "        'solver': ['lbfgs', 'liblinear']\n",
        "    }\n",
        "    grid_search = GridSearchCV(LogisticRegression(max_iter=1000), param_grid, cv=5, n_jobs=-1)\n",
        "    grid_search.fit(X_train_combined, y_train)\n",
        "    best_model = grid_search.best_estimator_\n",
        "    print(f\"Best parameters: {grid_search.best_params_}\")\n",
        "    print(f\"Best CV score: {grid_search.best_score_:.4f}\")"
      ],
      "metadata": {
        "id": "GfBJF-_BNupr"
      },
      "execution_count": null,
      "outputs": []
    },
    {
      "cell_type": "code",
      "source": [
        "\n",
        "# ================================\n",
        "# 9. CONFUSION MATRIX VISUALIZATION\n",
        "# ================================\n",
        "y_pred_best = best_model.predict(X_test_combined)\n",
        "cm = confusion_matrix(y_test, y_pred_best)\n",
        "\n",
        "plt.figure(figsize=(8, 6))\n",
        "sns.heatmap(cm, annot=True, fmt='d', cmap='Blues', xticklabels=['Ham', 'Spam'], yticklabels=['Ham', 'Spam'])\n",
        "plt.title(f'Confusion Matrix - {best_model_name}')\n",
        "plt.ylabel('Actual')\n",
        "plt.xlabel('Predicted')\n",
        "plt.savefig('confusion_matrix.png', dpi=300, bbox_inches='tight')\n",
        "print(\"\\nConfusion matrix saved as 'confusion_matrix.png'\")\n"
      ],
      "metadata": {
        "colab": {
          "base_uri": "https://localhost:8080/",
          "height": 549
        },
        "id": "Rb_Nc4p6NznN",
        "outputId": "3de2b9ba-460c-4199-874d-8df9af34fb80"
      },
      "execution_count": null,
      "outputs": [
        {
          "output_type": "stream",
          "name": "stdout",
          "text": [
            "\n",
            "Confusion matrix saved as 'confusion_matrix.png'\n"
          ]
        },
        {
          "output_type": "display_data",
          "data": {
            "text/plain": [
              "<Figure size 800x600 with 2 Axes>"
            ],
            "image/png": "[encoded data removed]"
          },
          "metadata": {}
        }
      ]
    },
    {
      "cell_type": "code",
      "source": [
        "# ================================\n",
        "# 10. SAVE MODEL AND COMPONENTS\n",
        "# ================================\n",
        "print(\"\\n\" + \"=\"*60)\n",
        "print(\"SAVING MODEL\")\n",
        "print(\"=\"*60)\n",
        "\n",
        "# Save all components\n",
        "with open('spam_model.pkl', 'wb') as f:\n",
        "    pickle.dump(best_model, f)\n",
        "\n",
        "with open('vectorizer.pkl', 'wb') as f:\n",
        "    pickle.dump(vectorizer, f)\n",
        "\n",
        "with open('model_info.pkl', 'wb') as f:\n",
        "    pickle.dump({\n",
        "        'model_name': best_model_name,\n",
        "        'accuracy': results[best_model_name]['accuracy'],\n",
        "        'feature_names': ['Length', 'Word_Count', 'Capital_Ratio', 'Special_Char_Count',\n",
        "                         'Has_URL', 'Has_Email', 'Has_Phone']\n",
        "    }, f)\n",
        "\n",
        "print(\"✓ Model saved as 'spam_model.pkl'\")\n",
        "print(\"✓ Vectorizer saved as 'vectorizer.pkl'\")\n",
        "print(\"✓ Model info saved as 'model_info.pkl'\")"
      ],
      "metadata": {
        "colab": {
          "base_uri": "https://localhost:8080/"
        },
        "id": "6zXqU440Nzud",
        "outputId": "976d505c-8589-4c01-c434-8cdf24cd026f"
      },
      "execution_count": null,
      "outputs": [
        {
          "output_type": "stream",
          "name": "stdout",
          "text": [
            "\n",
            "============================================================\n",
            "SAVING MODEL\n",
            "============================================================\n",
            "✓ Model saved as 'spam_model.pkl'\n",
            "✓ Vectorizer saved as 'vectorizer.pkl'\n",
            "✓ Model info saved as 'model_info.pkl'\n"
          ]
        }
      ]
    },
    {
      "cell_type": "code",
      "source": [
        "\n",
        "# ================================\n",
        "# 11. TEST WITH SAMPLE EMAILS\n",
        "# ================================\n",
        "print(\"\\n\" + \"=\"*60)\n",
        "print(\"TESTING WITH SAMPLE EMAILS\")\n",
        "print(\"=\"*60)\n",
        "\n",
        "def predict_email(email_text):\n",
        "    \"\"\"Predict if an email is spam or ham\"\"\"\n",
        "    # Preprocess\n",
        "    processed = preprocess_text(email_text)\n",
        "\n",
        "    # Extract features\n",
        "    length = len(email_text)\n",
        "    word_count = len(email_text.split())\n",
        "    capital_ratio = sum(1 for c in email_text if c.isupper()) / (len(email_text) + 1)\n",
        "    special_char_count = sum(1 for c in email_text if not c.isalnum() and not c.isspace())\n",
        "    has_url = 1 if re.search(r'http\\S+|www\\S+', email_text) else 0\n",
        "    has_email = 1 if re.search(r'\\S+@\\S+', email_text) else 0\n",
        "    has_phone = 1 if re.search(r'\\d{10}|\\d{3}[-.\\s]?\\d{3}[-.\\s]?\\d{4}', email_text) else 0\n",
        "\n",
        "    # Vectorize\n",
        "    text_vec = vectorizer.transform([processed])\n",
        "\n",
        "    # Combine features\n",
        "    features = np.array([[length, word_count, capital_ratio, special_char_count,\n",
        "                         has_url, has_email, has_phone]])\n",
        "    combined = hstack([text_vec, features])\n",
        "\n",
        "    # Predict\n",
        "    prediction = best_model.predict(combined)[0]\n",
        "    probability = best_model.predict_proba(combined)[0] if hasattr(best_model, 'predict_proba') else None\n",
        "\n",
        "    return 'Spam' if prediction == 1 else 'Ham', probability\n",
        "\n",
        "# Test samples\n",
        "test_emails = [\n",
        "    \"Hey mohan, can we get together to watch football game tomorrow?\",\n",
        "    \"Upto 20% discount on parking, exclusive offer just for you. Don't miss this reward!\",\n",
        "    \"URGENT! You've won $1000000! Click here now to claim your prize!!!\",\n",
        "    \"Hi, just checking if we're still on for dinner tonight?\"\n",
        "]\n",
        "\n",
        "for i, email in enumerate(test_emails, 1):\n",
        "    result, prob = predict_email(email)\n",
        "    print(f\"\\nEmail {i}: {email[:60]}...\")\n",
        "    print(f\"Prediction: {result}\")\n",
        "    if prob is not None:\n",
        "        print(f\"Confidence: Spam={prob[1]:.2%}, Ham={prob[0]:.2%}\")\n",
        "\n",
        "print(\"\\n\" + \"=\"*60)\n",
        "print(\"MODEL TRAINING COMPLETE!\")\n",
        "print(\"=\"*60)"
      ],
      "metadata": {
        "colab": {
          "base_uri": "https://localhost:8080/"
        },
        "id": "4iJ5RPbRNzx6",
        "outputId": "a05cbcc7-72e2-4d64-f7e3-b2b64ccccdce"
      },
      "execution_count": null,
      "outputs": [
        {
          "output_type": "stream",
          "name": "stdout",
          "text": [
            "\n",
            "============================================================\n",
            "TESTING WITH SAMPLE EMAILS\n",
            "============================================================\n",
            "\n",
            "Email 1: Hey mohan, can we get together to watch football game tomorr...\n",
            "Prediction: Ham\n",
            "\n",
            "Email 2: Upto 20% discount on parking, exclusive offer just for you. ...\n",
            "Prediction: Ham\n",
            "\n",
            "Email 3: URGENT! You've won $1000000! Click here now to claim your pr...\n",
            "Prediction: Spam\n",
            "\n",
            "Email 4: Hi, just checking if we're still on for dinner tonight?...\n",
            "Prediction: Ham\n",
            "\n",
            "============================================================\n",
            "MODEL TRAINING COMPLETE!\n",
            "============================================================\n"
          ]
        }
      ]
    },
    {
      "cell_type": "code",
      "source": [
        "# Download files directly\n",
        "from google.colab import files\n",
        "\n",
        "print(\"Downloading files...\")\n",
        "files.download('spam_model.pkl')\n",
        "files.download('vectorizer.pkl')\n",
        "files.download('model_info.pkl')\n",
        "files.download('confusion_matrix.png')\n",
        "print(\"✓ All files downloaded!\")\n",
        "\n",
        "# Display files created\n",
        "print(\"\\n📁 Files created:\")\n",
        "print(\"  1. spam_model.pkl\")\n",
        "print(\"  2. vectorizer.pkl\")\n",
        "print(\"  3. model_info.pkl\")\n",
        "print(\"  4. confusion_matrix.png\")"
      ],
      "metadata": {
        "colab": {
          "base_uri": "https://localhost:8080/",
          "height": 156
        },
        "id": "Q07bzjcGYVLT",
        "outputId": "a87d9d56-63c6-4578-9ff9-ec961e7883fc"
      },
      "execution_count": null,
      "outputs": [
        {
          "output_type": "stream",
          "name": "stdout",
          "text": [
            "Downloading files...\n"
          ]
        },
        {
          "output_type": "display_data",
          "data": {
            "text/plain": [
              "<IPython.core.display.Javascript object>"
            ],
            "application/javascript": [
              "\n",
              "    async function download(id, filename, size) {\n",
              "      if (!google.colab.kernel.accessAllowed) {\n",
              "        return;\n",
              "      }\n",
              "      const div = document.createElement('div');\n",
              "      const label = document.createElement('label');\n",
              "      label.textContent = `Downloading \"${filename}\": `;\n",
              "      div.appendChild(label);\n",
              "      const progress = document.createElement('progress');\n",
              "      progress.max = size;\n",
              "      div.appendChild(progress);\n",
              "      document.body.appendChild(div);\n",
              "\n",
              "      const buffers = [];\n",
              "      let downloaded = 0;\n",
              "\n",
              "      const channel = await google.colab.kernel.comms.open(id);\n",
              "      // Send a message to notify the kernel that we're ready.\n",
              "      channel.send({})\n",
              "\n",
              "      for await (const message of channel.messages) {\n",
              "        // Send a message to notify the kernel that we're ready.\n",
              "        channel.send({})\n",
              "        if (message.buffers) {\n",
              "          for (const buffer of message.buffers) {\n",
              "            buffers.push(buffer);\n",
              "            downloaded += buffer.byteLength;\n",
              "            progress.value = downloaded;\n",
              "          }\n",
              "        }\n",
              "      }\n",
              "      const blob = new Blob(buffers, {type: 'application/binary'});\n",
              "      const a = document.createElement('a');\n",
              "      a.href = window.URL.createObjectURL(blob);\n",
              "      a.download = filename;\n",
              "      div.appendChild(a);\n",
              "      a.click();\n",
              "      div.remove();\n",
              "    }\n",
              "  "
            ]
          },
          "metadata": {}
        },
        {
          "output_type": "display_data",
          "data": {
            "text/plain": [
              "<IPython.core.display.Javascript object>"
            ],
            "application/javascript": [
              "download(\"download_74f5bf39-319e-488d-aadd-eb21f3d8c7ba\", \"spam_model.pkl\", 120590)"
            ]
          },
          "metadata": {}
        },
        {
          "output_type": "display_data",
          "data": {
            "text/plain": [
              "<IPython.core.display.Javascript object>"
            ],
            "application/javascript": [
              "\n",
              "    async function download(id, filename, size) {\n",
              "      if (!google.colab.kernel.accessAllowed) {\n",
              "        return;\n",
              "      }\n",
              "      const div = document.createElement('div');\n",
              "      const label = document.createElement('label');\n",
              "      label.textContent = `Downloading \"${filename}\": `;\n",
              "      div.appendChild(label);\n",
              "      const progress = document.createElement('progress');\n",
              "      progress.max = size;\n",
              "      div.appendChild(progress);\n",
              "      document.body.appendChild(div);\n",
              "\n",
              "      const buffers = [];\n",
              "      let downloaded = 0;\n",
              "\n",
              "      const channel = await google.colab.kernel.comms.open(id);\n",
              "      // Send a message to notify the kernel that we're ready.\n",
              "      channel.send({})\n",
              "\n",
              "      for await (const message of channel.messages) {\n",
              "        // Send a message to notify the kernel that we're ready.\n",
              "        channel.send({})\n",
              "        if (message.buffers) {\n",
              "          for (const buffer of message.buffers) {\n",
              "            buffers.push(buffer);\n",
              "            downloaded += buffer.byteLength;\n",
              "            progress.value = downloaded;\n",
              "          }\n",
              "        }\n",
              "      }\n",
              "      const blob = new Blob(buffers, {type: 'application/binary'});\n",
              "      const a = document.createElement('a');\n",
              "      a.href = window.URL.createObjectURL(blob);\n",
              "      a.download = filename;\n",
              "      div.appendChild(a);\n",
              "      a.click();\n",
              "      div.remove();\n",
              "    }\n",
              "  "
            ]
          },
          "metadata": {}
        },
        {
          "output_type": "display_data",
          "data": {
            "text/plain": [
              "<IPython.core.display.Javascript object>"
            ],
            "application/javascript": [
              "download(\"download_91b71f3e-8176-41c0-882c-0d11bebc178a\", \"vectorizer.pkl\", 111452)"
            ]
          },
          "metadata": {}
        },
        {
          "output_type": "display_data",
          "data": {
            "text/plain": [
              "<IPython.core.display.Javascript object>"
            ],
            "application/javascript": [
              "\n",
              "    async function download(id, filename, size) {\n",
              "      if (!google.colab.kernel.accessAllowed) {\n",
              "        return;\n",
              "      }\n",
              "      const div = document.createElement('div');\n",
              "      const label = document.createElement('label');\n",
              "      label.textContent = `Downloading \"${filename}\": `;\n",
              "      div.appendChild(label);\n",
              "      const progress = document.createElement('progress');\n",
              "      progress.max = size;\n",
              "      div.appendChild(progress);\n",
              "      document.body.appendChild(div);\n",
              "\n",
              "      const buffers = [];\n",
              "      let downloaded = 0;\n",
              "\n",
              "      const channel = await google.colab.kernel.comms.open(id);\n",
              "      // Send a message to notify the kernel that we're ready.\n",
              "      channel.send({})\n",
              "\n",
              "      for await (const message of channel.messages) {\n",
              "        // Send a message to notify the kernel that we're ready.\n",
              "        channel.send({})\n",
              "        if (message.buffers) {\n",
              "          for (const buffer of message.buffers) {\n",
              "            buffers.push(buffer);\n",
              "            downloaded += buffer.byteLength;\n",
              "            progress.value = downloaded;\n",
              "          }\n",
              "        }\n",
              "      }\n",
              "      const blob = new Blob(buffers, {type: 'application/binary'});\n",
              "      const a = document.createElement('a');\n",
              "      a.href = window.URL.createObjectURL(blob);\n",
              "      a.download = filename;\n",
              "      div.appendChild(a);\n",
              "      a.click();\n",
              "      div.remove();\n",
              "    }\n",
              "  "
            ]
          },
          "metadata": {}
        },
        {
          "output_type": "display_data",
          "data": {
            "text/plain": [
              "<IPython.core.display.Javascript object>"
            ],
            "application/javascript": [
              "download(\"download_8428f784-b093-4908-9abe-016eb6df187d\", \"model_info.pkl\", 168)"
            ]
          },
          "metadata": {}
        },
        {
          "output_type": "display_data",
          "data": {
            "text/plain": [
              "<IPython.core.display.Javascript object>"
            ],
            "application/javascript": [
              "\n",
              "    async function download(id, filename, size) {\n",
              "      if (!google.colab.kernel.accessAllowed) {\n",
              "        return;\n",
              "      }\n",
              "      const div = document.createElement('div');\n",
              "      const label = document.createElement('label');\n",
              "      label.textContent = `Downloading \"${filename}\": `;\n",
              "      div.appendChild(label);\n",
              "      const progress = document.createElement('progress');\n",
              "      progress.max = size;\n",
              "      div.appendChild(progress);\n",
              "      document.body.appendChild(div);\n",
              "\n",
              "      const buffers = [];\n",
              "      let downloaded = 0;\n",
              "\n",
              "      const channel = await google.colab.kernel.comms.open(id);\n",
              "      // Send a message to notify the kernel that we're ready.\n",
              "      channel.send({})\n",
              "\n",
              "      for await (const message of channel.messages) {\n",
              "        // Send a message to notify the kernel that we're ready.\n",
              "        channel.send({})\n",
              "        if (message.buffers) {\n",
              "          for (const buffer of message.buffers) {\n",
              "            buffers.push(buffer);\n",
              "            downloaded += buffer.byteLength;\n",
              "            progress.value = downloaded;\n",
              "          }\n",
              "        }\n",
              "      }\n",
              "      const blob = new Blob(buffers, {type: 'application/binary'});\n",
              "      const a = document.createElement('a');\n",
              "      a.href = window.URL.createObjectURL(blob);\n",
              "      a.download = filename;\n",
              "      div.appendChild(a);\n",
              "      a.click();\n",
              "      div.remove();\n",
              "    }\n",
              "  "
            ]
          },
          "metadata": {}
        },
        {
          "output_type": "display_data",
          "data": {
            "text/plain": [
              "<IPython.core.display.Javascript object>"
            ],
            "application/javascript": [
              "download(\"download_ea7b1cd0-43d2-4007-a1f4-8b71ef37b5a7\", \"confusion_matrix.png\", 69750)"
            ]
          },
          "metadata": {}
        },
        {
          "output_type": "stream",
          "name": "stdout",
          "text": [
            "✓ All files downloaded!\n",
            "\n",
            "📁 Files created:\n",
            "  1. spam_model.pkl\n",
            "  2. vectorizer.pkl\n",
            "  3. model_info.pkl\n",
            "  4. confusion_matrix.png\n"
          ]
        }
      ]
    }
  ]
}